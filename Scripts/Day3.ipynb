{
 "cells": [
  {
   "cell_type": "markdown",
   "id": "23788620",
   "metadata": {},
   "source": [
    "# Python Basics Walkthrough\n",
    "\n",
    "👉 **Note about `print()`:**\n",
    "- In Jupyter, if you just type a variable name, its value is shown as output.\n",
    "- If you want to display multiple things, or add text around them, use `print()`."
   ]
  },
  {
   "cell_type": "markdown",
   "id": "44906237-b761-4060-95f1-53f3e7393b2d",
   "metadata": {},
   "source": [
    "# ASDS Coding Camp - Day 3"
   ]
  },
  {
   "cell_type": "markdown",
   "id": "f853791e-5a63-48c1-94f1-e98d752985b1",
   "metadata": {},
   "source": [
    "## Python basics"
   ]
  },
  {
   "cell_type": "code",
   "execution_count": null,
   "id": "0f035cf2-e387-4307-b54c-40185174dd73",
   "metadata": {},
   "outputs": [],
   "source": [
    "# The hast '#' sign is used to comment out text\n",
    "# Text preceded by # will not be read by Python"
   ]
  },
  {
   "cell_type": "code",
   "execution_count": null,
   "id": "4db1d75f-72e9-4693-9f39-4b44b0f1a880",
   "metadata": {},
   "outputs": [],
   "source": [
    "#This will be read by Python, and will produce an error message"
   ]
  },
  {
   "cell_type": "markdown",
   "id": "4fb24270-903e-4617-8ad8-6df2c4c862f9",
   "metadata": {},
   "source": [
    "There is no equivalent in Python to R's ls() function. \\\n",
    "\\\n",
    "Calling $\\texttt{dir()}$ in Python is similar to calling $\\texttt{ls()}$ and $\\texttt{search()}$ simultaneously in R: it provides a list of names of objects in the current *scope*, which is similar to R's concept of environment."
   ]
  },
  {
   "cell_type": "code",
   "execution_count": null,
   "id": "50c36b23-68eb-4d5e-a7e2-e966dab652a9",
   "metadata": {},
   "outputs": [],
   "source": [
    "dir()"
   ]
  },
  {
   "cell_type": "code",
   "execution_count": null,
   "id": "c0e3ab0f-42c6-4555-9d63-dd6a39d56f81",
   "metadata": {},
   "outputs": [],
   "source": [
    "a = \"Hello world\""
   ]
  },
  {
   "cell_type": "code",
   "execution_count": null,
   "id": "da77bdb5-6851-4964-8276-d188da86ff64",
   "metadata": {},
   "outputs": [],
   "source": [
    "print(a)"
   ]
  },
  {
   "cell_type": "markdown",
   "id": "ef383377-eec2-44d6-a4bd-368cef9777f7",
   "metadata": {},
   "source": [
    "The core distribution of Python has very limited data science capabilities. For this reason, doing data analysis in Python requires additional libraries to be attached. "
   ]
  },
  {
   "cell_type": "markdown",
   "id": "ae9d65e5",
   "metadata": {},
   "source": [
    "## 7. Plotting with Matplotlib\n",
    "We can create quick plots with just a few lines."
   ]
  },
  {
   "cell_type": "code",
   "execution_count": null,
   "id": "1d421bb5-360e-496a-86ea-dad8abdffea0",
   "metadata": {},
   "outputs": [],
   "source": [
    "import numpy as np\n",
    "import pandas as pd\n",
    "import matplotlib.pyplot as plt"
   ]
  },
  {
   "cell_type": "markdown",
   "id": "98da3316-9dd0-4e28-8a18-b6a6a5bd8701",
   "metadata": {},
   "source": [
    "The three most important of these libraries are $\\textbf{numpy}$ (short for Numerical Python), which provides some additional data structures for arrays; $\\textbf{pandas}$ (short for Panel Data), which does the same for tabular data; and $\\textbf{matplotlib}$, which provides graphical capabilities. Anaconda comes all three installed, and to use them in a Python session we *import* them *as* an abbreviated version. "
   ]
  },
  {
   "cell_type": "code",
   "execution_count": null,
   "id": "255556cb-ce9b-40cf-9e10-7db4c54cfb1b",
   "metadata": {},
   "outputs": [],
   "source": [
    "# conda install pandas\n",
    "# conda update pandas"
   ]
  },
  {
   "cell_type": "markdown",
   "id": "6ba1c668-67c7-4272-9965-d3d2339d9f5f",
   "metadata": {},
   "source": [
    "### Help! "
   ]
  },
  {
   "cell_type": "markdown",
   "id": "22ff2f44-3ba9-496d-87d3-16417fcc4635",
   "metadata": {},
   "source": [
    "Accessing help in Python is similar to R. Calling the help() function, and passing the name of a function within the brackets, will call the help file for that function. It is also generally possible to use a question mark (?) as a shortcut, though be careful as this is not a \"built-in\" capability. "
   ]
  },
  {
   "cell_type": "code",
   "execution_count": null,
   "id": "5bfc0643-e4bc-440e-8681-d07de1e7badf",
   "metadata": {},
   "outputs": [],
   "source": [
    "#help()"
   ]
  },
  {
   "cell_type": "code",
   "execution_count": null,
   "id": "b89542a4-fd0d-4597-a63d-f4676e3e6d7c",
   "metadata": {},
   "outputs": [],
   "source": [
    "# help? and ?help will do the same "
   ]
  },
  {
   "cell_type": "markdown",
   "id": "ee286dd6-55fd-4312-bca2-7bdc2520e7be",
   "metadata": {},
   "source": [
    "Next, we call on a built-in function, len(), which works like length() in R - or does it? \\\n",
    "When we pass our recently created object \"a\" to the length() function, what value does it return?"
   ]
  },
  {
   "cell_type": "code",
   "execution_count": null,
   "id": "89c92616-b54a-44ed-8075-db745d5a26d0",
   "metadata": {},
   "outputs": [],
   "source": [
    "len(a)"
   ]
  },
  {
   "cell_type": "code",
   "execution_count": null,
   "id": "5929dfb0-3246-46a9-8b3c-42093bbcfae8",
   "metadata": {},
   "outputs": [],
   "source": [
    "len?"
   ]
  },
  {
   "cell_type": "code",
   "execution_count": null,
   "id": "2fa21efb-d128-4e57-b91b-87054388dd19",
   "metadata": {},
   "outputs": [],
   "source": [
    "help(len)"
   ]
  },
  {
   "cell_type": "markdown",
   "id": "97a5c070-67aa-4d0f-9081-bcfa1e167f3a",
   "metadata": {},
   "source": [
    "### Making data "
   ]
  },
  {
   "cell_type": "markdown",
   "id": "490f9a32-e749-4ed3-bad8-01c63c033f07",
   "metadata": {},
   "source": [
    "Mostly in Python you will be dealing with data which you have imported from external sources, or data types associated with numpy or pandas. However, it is good to know about Python's basic data structures, because everything else is build on them, and they can be less intuitive to work with than R. \\\n",
    "\\\n",
    "In R, the assignment operator is <- . In Python, we use the equals sign (=)."
   ]
  },
  {
   "cell_type": "code",
   "execution_count": null,
   "id": "2817ada3-ee57-4f58-bc42-73ffe713f814",
   "metadata": {},
   "outputs": [],
   "source": [
    "b = 5"
   ]
  },
  {
   "cell_type": "code",
   "execution_count": null,
   "id": "d941348b-3642-46d7-8e51-4e557398f21a",
   "metadata": {},
   "outputs": [],
   "source": [
    "print(b)"
   ]
  },
  {
   "cell_type": "code",
   "execution_count": null,
   "id": "26731ee4-f48f-4202-a3ae-66efb1c1f040",
   "metadata": {},
   "outputs": [],
   "source": [
    "# Integer\n",
    "b = -125"
   ]
  },
  {
   "cell_type": "code",
   "execution_count": null,
   "id": "c83cd8b6-a561-43d4-b20d-6a5d929b4c14",
   "metadata": {},
   "outputs": [],
   "source": [
    "# Float\n",
    "score = 0.452\n",
    "result = 1e-5"
   ]
  },
  {
   "cell_type": "code",
   "execution_count": null,
   "id": "88e6234a-eb1a-4975-80f0-9d9d9a359c30",
   "metadata": {},
   "outputs": [],
   "source": [
    "# Boolean \n",
    "answer = True\n",
    "test_val = False"
   ]
  },
  {
   "cell_type": "code",
   "execution_count": null,
   "id": "e91ed992-cdde-46bf-bfda-b80e0a74d87e",
   "metadata": {},
   "outputs": [],
   "source": [
    "# String\n",
    "mytext = \"this is some text\"\n",
    "hello_str = \"hello\" + \"world\""
   ]
  },
  {
   "cell_type": "code",
   "execution_count": null,
   "id": "de16d55a-2978-40f5-bd3e-0a8aa677e12d",
   "metadata": {},
   "outputs": [],
   "source": [
    "mytext"
   ]
  },
  {
   "cell_type": "code",
   "execution_count": null,
   "id": "89e78ebc-4237-484e-b68f-98103ef69f39",
   "metadata": {},
   "outputs": [],
   "source": [
    "hello_str"
   ]
  },
  {
   "cell_type": "markdown",
   "id": "5afd9d85-dfb7-49ac-aaad-492c999a894a",
   "metadata": {},
   "source": [
    "## LISTS"
   ]
  },
  {
   "cell_type": "markdown",
   "id": "cdfa3c53-639c-41b8-9f08-ff9030d66e7d",
   "metadata": {},
   "source": [
    "Python has numerous types of data structures: \"a\" is a string (str); \"b\" is an integer (int), which are both types pf *scalar*, or single values; \"c\" and \"d\" are both *lists*, which contain multiple values. Note the use of square brackets [] and comma separation of values. Note also that a list can contain both integers and strings."
   ]
  },
  {
   "cell_type": "code",
   "execution_count": null,
   "id": "95cfc934-4cd0-48d3-835b-f2f266160c97",
   "metadata": {},
   "outputs": [],
   "source": [
    "c = [1, 2, 3, 3, 2]"
   ]
  },
  {
   "cell_type": "code",
   "execution_count": null,
   "id": "29aacde4-9744-4baa-b12a-db9f4503412c",
   "metadata": {},
   "outputs": [],
   "source": [
    "print(c)"
   ]
  },
  {
   "cell_type": "code",
   "execution_count": null,
   "id": "8d63d5a9-3c52-4631-888b-a40f216245ff",
   "metadata": {},
   "outputs": [],
   "source": [
    "d = [1, \"two\", 3]"
   ]
  },
  {
   "cell_type": "code",
   "execution_count": null,
   "id": "0155858f-b2d3-4865-ab37-f769282dc3de",
   "metadata": {},
   "outputs": [],
   "source": [
    "print(d)"
   ]
  },
  {
   "cell_type": "code",
   "execution_count": null,
   "id": "4890863e-bced-4ce5-a22d-ad0e802649bc",
   "metadata": {},
   "outputs": [],
   "source": [
    "# First value has index 0\n",
    "c[0]"
   ]
  },
  {
   "cell_type": "code",
   "execution_count": null,
   "id": "20057c64-3a48-4a39-9fea-95de3b157069",
   "metadata": {},
   "outputs": [],
   "source": [
    "# Access in reverse via negative numbers \n",
    "d[-1]"
   ]
  },
  {
   "cell_type": "code",
   "execution_count": null,
   "id": "82bc3e42-a754-4316-b941-e9ce41e11de9",
   "metadata": {},
   "outputs": [],
   "source": [
    "# Get number of items in a list\n",
    "len(c)"
   ]
  },
  {
   "cell_type": "markdown",
   "id": "5068600e-cb6b-4b8e-99f7-5e2d22234749",
   "metadata": {},
   "source": [
    "### TUPLES"
   ]
  },
  {
   "cell_type": "markdown",
   "id": "bcf0fd52-ea18-43ec-a429-2b3eee2bec2a",
   "metadata": {},
   "source": [
    "A *tuple* is similar to a list, but its contents cannot be modified. Note that round brackets () are not needed, but an be used. "
   ]
  },
  {
   "cell_type": "code",
   "execution_count": null,
   "id": "67de835b-1c88-4cd8-a7d3-f8e3a54a2e0f",
   "metadata": {},
   "outputs": [],
   "source": [
    "e = 1,2,3"
   ]
  },
  {
   "cell_type": "code",
   "execution_count": null,
   "id": "81308277-2403-43d5-b02f-795afacd2d3f",
   "metadata": {},
   "outputs": [],
   "source": [
    "print(e)"
   ]
  },
  {
   "cell_type": "code",
   "execution_count": null,
   "id": "daba52dc-bb2c-410b-abab-beddeb74461e",
   "metadata": {},
   "outputs": [],
   "source": [
    "f = (1,2,3)\n",
    "print(f)"
   ]
  },
  {
   "cell_type": "code",
   "execution_count": null,
   "id": "fff30726-e32f-4c34-a4d2-206a7308f616",
   "metadata": {},
   "outputs": [],
   "source": [
    "# Trying to modify a tuple after creation will cause an error\n",
    "tup_2025 = (2, True, \"adss\") # Values of tuples can take multiple types "
   ]
  },
  {
   "cell_type": "code",
   "execution_count": null,
   "id": "69501eba-962d-42b4-9e38-30e8612cde63",
   "metadata": {},
   "outputs": [],
   "source": [
    "tup_2025[3] = \"ADSS\" # error"
   ]
  },
  {
   "cell_type": "markdown",
   "id": "cbe07abe-6874-4876-8a0a-afe4452a590b",
   "metadata": {},
   "source": [
    "The last two basic structures are sets and dictionaries (dicts). A set is like a list, but can only contain unique elements: here, \"g\" and \"h\" are identical. Sets are created using curly braces {}. A dict is an important data structure in Python. Similar to a set, it is created using curly braces, but it contains pairs of *keys* and *values*, separated by colons. "
   ]
  },
  {
   "cell_type": "markdown",
   "id": "6e83ab2a-1296-4223-8e1d-3a0ecf69222e",
   "metadata": {},
   "source": [
    "### SETS "
   ]
  },
  {
   "cell_type": "code",
   "execution_count": null,
   "id": "fe3d1a3e-4215-4dc5-8740-388a366d711d",
   "metadata": {},
   "outputs": [],
   "source": [
    "g = {1,2,3,4}\n",
    "print(g)"
   ]
  },
  {
   "cell_type": "code",
   "execution_count": null,
   "id": "cba282b5-dd49-42dc-902b-f17e224fc4ea",
   "metadata": {},
   "outputs": [],
   "source": [
    "h = {1,1,2,2,2,3,3,4,4,4,4}\n",
    "print(h)"
   ]
  },
  {
   "cell_type": "code",
   "execution_count": null,
   "id": "7908edd8-98fd-4248-8ab6-0ed2af23e3f9",
   "metadata": {},
   "outputs": [],
   "source": [
    "# We can create sets from lists, strings or any other iterable value, using the set() function.\n",
    "g = set(c)\n",
    "print(g)"
   ]
  },
  {
   "cell_type": "code",
   "execution_count": null,
   "id": "7aacfcfc-c843-44b8-bef4-17be83e1cf21",
   "metadata": {},
   "outputs": [],
   "source": [
    "# The 'in' operator can be used to check if a value is in a set\n",
    "1 in g"
   ]
  },
  {
   "cell_type": "code",
   "execution_count": null,
   "id": "40edaece-c86a-4ee1-88d6-d3de1032cd85",
   "metadata": {},
   "outputs": [],
   "source": [
    "7 in g"
   ]
  },
  {
   "cell_type": "markdown",
   "id": "4ec921d9-68b2-4abd-9d78-3cd159bb6cab",
   "metadata": {},
   "source": [
    "### Dictionaries"
   ]
  },
  {
   "cell_type": "code",
   "execution_count": null,
   "id": "1d81bcfc-5d53-423f-bf7b-129040b8dd72",
   "metadata": {},
   "outputs": [],
   "source": [
    "i = {1: 'This', 2: 'is', 3: 'a', 4: 'dict'}"
   ]
  },
  {
   "cell_type": "code",
   "execution_count": null,
   "id": "bcddf3d9-7d6d-44ff-95dd-56d80de22179",
   "metadata": {},
   "outputs": [],
   "source": [
    "print(i)"
   ]
  },
  {
   "cell_type": "code",
   "execution_count": null,
   "id": "fc9a6409-86b7-4ba0-8b9d-367d19c75842",
   "metadata": {},
   "outputs": [],
   "source": [
    "d1 = {\"Ireland\": \"Dublin\", \"Brazil\":\"Brasilia\"}"
   ]
  },
  {
   "cell_type": "code",
   "execution_count": null,
   "id": "4e483f27-d2a5-48f6-8170-707626e68923",
   "metadata": {},
   "outputs": [],
   "source": [
    "print(d1)"
   ]
  },
  {
   "cell_type": "code",
   "execution_count": null,
   "id": "d7285f51-c547-476f-8181-c51e9f991144",
   "metadata": {},
   "outputs": [],
   "source": [
    "# Access a value in a dictionary\n",
    "d1[\"Ireland\"]"
   ]
  },
  {
   "cell_type": "code",
   "execution_count": null,
   "id": "37c36d07-aa63-4f9d-89e8-2d13a01415ed",
   "metadata": {},
   "outputs": [],
   "source": [
    "# Dictionaries can be modified after creation. \n",
    "# New pairs can easily be added using the assignment operator. \n",
    "d1['Italy'] = 'Rome'"
   ]
  },
  {
   "cell_type": "code",
   "execution_count": null,
   "id": "0b944d24-be12-4c07-a15d-ccdfd3fbefaa",
   "metadata": {},
   "outputs": [],
   "source": [
    "d1"
   ]
  },
  {
   "cell_type": "markdown",
   "id": "18c4aab4-a219-4390-bcb7-37380d822cc0",
   "metadata": {},
   "source": [
    "The example below gives us an idea of how data science libraries such as pandas build on basic Python data structures. Here, we create a dictionary (dict) comprising three lists, each defined by a different key. If we then pass this dict to the DataFrame() function in pandas (remembering to use the pd. alias when calling the function), we can transform the dict into a dataframe: a much more useful data structure for data analysis."
   ]
  },
  {
   "cell_type": "code",
   "execution_count": null,
   "id": "2648b09f-93e9-4ff6-9a30-5f138700be86",
   "metadata": {},
   "outputs": [],
   "source": [
    "data = {'year' : [1992, 1997, 2002, 2007, 2011, 2016, 2020],\n",
    "        'party' : ['Fianna Fail', 'Fianna Fail', 'Fianna Fail', 'Fianna Fail', 'Fine Gael', 'Fine Gael', 'Fianna Fail'],\n",
    "        'seats' : [68, 77, 81, 78, 76, 50, 38]}"
   ]
  },
  {
   "cell_type": "code",
   "execution_count": null,
   "id": "9669632c-d3be-4b8f-9d3a-557e11720669",
   "metadata": {},
   "outputs": [],
   "source": [
    "print(data)"
   ]
  },
  {
   "cell_type": "code",
   "execution_count": null,
   "id": "4ff11bb1-1725-40e2-9dd3-ef3dba646551",
   "metadata": {},
   "outputs": [],
   "source": [
    "type(data)"
   ]
  },
  {
   "cell_type": "code",
   "execution_count": null,
   "id": "3fc7b5f3-2e73-4939-983a-f666ec6bbe8a",
   "metadata": {},
   "outputs": [],
   "source": [
    "data_frame = pd.DataFrame(data)\n",
    "data_frame_test = pd.DataFrame(c)\n",
    "print(data_frame_test)\n",
    "print(data_frame)"
   ]
  },
  {
   "cell_type": "markdown",
   "id": "54e5d477-facd-4841-a74d-495abe348160",
   "metadata": {},
   "source": [
    "### Functions"
   ]
  },
  {
   "cell_type": "markdown",
   "id": "61f8b6cf-1385-4d27-93e3-ef3c8cd1ce91",
   "metadata": {},
   "source": [
    "We are introduced to functions in the section on help. An important difference between Python and R is the concept of *methods*. \n",
    "\\\n",
    "In R, every function is called the same way: the name of the function is followed by round brackets, and the *arguments* of the function are placed inside the brackets. \n",
    "\\\n",
    "Many Python functions operate in the same way. However, *methods* operate slightly diffrently. A method is a function which belongs to a specific *class* of object, and it is called by placing a dot (.) after the name of the object, followed by the method, followed by round brackets. "
   ]
  },
  {
   "cell_type": "code",
   "execution_count": null,
   "id": "6343dbd9-d563-4581-97f3-aba5a886092f",
   "metadata": {},
   "outputs": [],
   "source": [
    "# Adding elements to a list\n",
    "c.append(4)\n",
    "print(c)"
   ]
  },
  {
   "cell_type": "code",
   "execution_count": null,
   "id": "f5d4f13c-ae05-4150-9fa4-b418f127fbbb",
   "metadata": {},
   "outputs": [],
   "source": [
    "c.append(0)\n",
    "print(c)"
   ]
  },
  {
   "cell_type": "code",
   "execution_count": null,
   "id": "6fb95d1f-2ce0-47be-bb6f-fd87deceab12",
   "metadata": {},
   "outputs": [],
   "source": [
    "# Sort a list in place\n",
    "c.sort()\n",
    "print(c)"
   ]
  },
  {
   "cell_type": "code",
   "execution_count": null,
   "id": "578d9e2a-e3cb-467a-ad51-6d34e351527e",
   "metadata": {},
   "outputs": [],
   "source": [
    "# Which one?\n",
    "len(c)\n",
    "c.len()"
   ]
  },
  {
   "cell_type": "code",
   "execution_count": null,
   "id": "4216afa5-8043-467b-b7f2-cff35cba67d9",
   "metadata": {},
   "outputs": [],
   "source": [
    "# Reverse the order of a list\n",
    "c.reverse()\n",
    "print(c)"
   ]
  },
  {
   "cell_type": "code",
   "execution_count": null,
   "id": "fd9bf95e-fdd2-4889-a5db-df2e59e38b0e",
   "metadata": {},
   "outputs": [],
   "source": [
    "# Remove all items from a list\n",
    "c.clear()\n",
    "print(c)"
   ]
  },
  {
   "cell_type": "markdown",
   "id": "3834fcd9",
   "metadata": {},
   "source": [
    "## 2. Variables and Types\n",
    "We can store values in variables. Python automatically detects the type (integer, float, string, etc.)."
   ]
  },
  {
   "cell_type": "code",
   "execution_count": null,
   "id": "b125f06d-669d-447e-a725-72473903a882",
   "metadata": {},
   "outputs": [],
   "source": [
    "# Functions can be used to combine and compare 2 sets\n",
    "x = set([1,2,3,4])\n",
    "y = set([3,4,5])"
   ]
  },
  {
   "cell_type": "code",
   "execution_count": null,
   "id": "cab554a0-3ea7-4697-b67e-0a06e65dbfad",
   "metadata": {},
   "outputs": [],
   "source": [
    "print(x.intersection(y))\n",
    "print(x.union(y))\n",
    "print(x.difference(y))"
   ]
  },
  {
   "cell_type": "code",
   "execution_count": null,
   "id": "773b15f6-0a18-43fe-88e6-4b1f4c0218dc",
   "metadata": {},
   "outputs": [],
   "source": [
    "# Dictionaries have various associated functions to access the keys and/or values\n",
    "\n",
    "# Get only the keys from a dictionary\n",
    "d1.keys()"
   ]
  },
  {
   "cell_type": "code",
   "execution_count": null,
   "id": "d15f92fc-dd40-44d4-bce4-bf5a2bd72e8e",
   "metadata": {},
   "outputs": [],
   "source": [
    "# Get only the values from a dictionary\n",
    "d1.values()"
   ]
  },
  {
   "cell_type": "code",
   "execution_count": null,
   "id": "16c3eb44-90de-4523-95dd-ed8a809e927e",
   "metadata": {},
   "outputs": [],
   "source": [
    "# Get all keys and values, pairs at tuples\n",
    "d1.items()"
   ]
  },
  {
   "cell_type": "code",
   "execution_count": null,
   "id": "314237b8-032f-4d40-85a4-f6bab1afa44b",
   "metadata": {},
   "outputs": [],
   "source": [
    "# Here, we make a list of numbers, 'a', which we then convert into a dataframe, an object belonging to the \n",
    "# pandas module, using the function DataFrame() and the pd alias. We then call the mean() *method*, a type \n",
    "# of function belonging to the dataframe class, on this object. \n",
    "\n",
    "a = [1, 2, 3, 4, 5, 6, 7, 8, 9, 10]\n",
    "a = pd.DataFrame(a)\n",
    "a.mean()"
   ]
  },
  {
   "cell_type": "code",
   "execution_count": null,
   "id": "49b14ca8-1473-4cea-b3eb-3af99cdae66e",
   "metadata": {},
   "outputs": [],
   "source": [
    "# To call the help file on a method, we need to supply an object of the proper class. Here, for example,\n",
    "# the first four calls to help on the .mean() method do not work. Calling help on methods can be extremely\n",
    "# unintuitive, and is a good example of Python's steep learning curve. \n",
    "\n",
    "?mean\n",
    "?mean()\n",
    "?.mean()\n",
    "help(mean)"
   ]
  },
  {
   "cell_type": "code",
   "execution_count": null,
   "id": "5c475dc6-4eed-48ed-80dc-0013ba9a1198",
   "metadata": {},
   "outputs": [],
   "source": [
    "?a.mean"
   ]
  },
  {
   "cell_type": "code",
   "execution_count": null,
   "id": "90d99460-9640-4604-84ef-6fd48de71851",
   "metadata": {},
   "outputs": [],
   "source": [
    "# Next, we call the .mean() method on the 'seats' column of the \n",
    "# data_frame object we just created. Notice that to select the seats \n",
    "# column we can use either a dot (.) after the name of our object, \n",
    "# or square brackets [] with the column name inside, surrounded by \n",
    "# quotes ''. Note how this differs to R's $ operator. We then call \n",
    "# the mean() method by adding another dot(.), followed by round \n",
    "# brackets. \n",
    "\n",
    "data_frame.seats.mean()\n",
    "data_frame['seats'].mean()"
   ]
  },
  {
   "cell_type": "markdown",
   "id": "f8c29b90-96a8-4c2c-8f4e-caeabd7d31f4",
   "metadata": {},
   "source": [
    "It is possible to *chain* methods together to perform fairly complex operations in a very concise manner. \n",
    "\\\n",
    "Say we wanted to calculate the average number of seats won by the largest party in the Dail following a general election, and to see whether there is any difference between the average number of seats won by Fianna Fail and Fine Gail. To achieve this, we first select our object and column of interest, data_frames['seats']. \\\n",
    "\\\n",
    "We then use the $\\texttt{groupby}$ method, a functio which *groups* the 'seats' column *by* the values in the 'party' column. \n",
    "\\\n",
    "If we then call the mean method on this newly grouped data, Python will return the average seats for each party.\n"
   ]
  },
  {
   "cell_type": "code",
   "execution_count": null,
   "id": "07b3e96c-bd76-4ae4-a383-9176549501f0",
   "metadata": {},
   "outputs": [],
   "source": [
    "data_frame['seats'].groupby(data_frame['party']).mean()"
   ]
  },
  {
   "cell_type": "code",
   "execution_count": null,
   "id": "19a936ce-0c9b-475e-afbc-8912a3f68e64",
   "metadata": {},
   "outputs": [],
   "source": [
    "# The same syntax works equally well with the std method, which returns the \n",
    "# standard deviation of the mean we just calculated. What does this tell us \n",
    "# about the respective parties? \n",
    "\n",
    "data_frame['seats'].groupby(data_frame['party']).std()"
   ]
  },
  {
   "cell_type": "code",
   "execution_count": null,
   "id": "7d68d99b-3ee8-421c-8819-d0d7accbffed",
   "metadata": {},
   "outputs": [],
   "source": [
    "# Below is a simple function, which demonstrates one of the most important\n",
    "# aspects of Python as a programming language: indentation. \n",
    "\n",
    "def a_function(x):\n",
    "    if x > 1:\n",
    "        print('x is greater than 1')\n",
    "    else:\n",
    "        print('x is less than or equal to 1')"
   ]
  },
  {
   "cell_type": "code",
   "execution_count": null,
   "id": "e38d3ed8-403d-4e15-8346-b9a120933f50",
   "metadata": {},
   "outputs": [],
   "source": [
    "a_function(5)"
   ]
  },
  {
   "cell_type": "code",
   "execution_count": null,
   "id": "5c013413-1f3a-474b-bece-e15d780cd6ea",
   "metadata": {},
   "outputs": [],
   "source": [
    "a_function(-5)"
   ]
  },
  {
   "cell_type": "code",
   "execution_count": null,
   "id": "87285b2c-5367-4cf1-834a-019f2ff9871b",
   "metadata": {},
   "outputs": [],
   "source": [
    "# Whereas in R indentation is of little importance (it is mainly used\n",
    "# as a convention to help with readability of code), in Python it is\n",
    "# extremely important. Indentation tells Python which sections of \n",
    "# code belong together. Here, the \"if\" and \"else\" statements are both\n",
    "# at the same level of indentation, as are the two calls to \"print\".\n",
    "# This is a bit like telling Python \"if the argument I give you, x,\n",
    "# is bigger than 1, print the first statement. Otherwise, print the\n",
    "# second one.\" In R, we would use curly braces {} and commas \",\" to\n",
    "# separate these statements."
   ]
  },
  {
   "cell_type": "markdown",
   "id": "c66a1e3d-a511-45af-beed-7d4e54a5a407",
   "metadata": {},
   "source": [
    "## Plotting"
   ]
  },
  {
   "cell_type": "markdown",
   "id": "7e7c5f03-a887-46af-bff1-bf9d20089927",
   "metadata": {},
   "source": [
    "We use the $\\texttt{matplotlib}$ library in Python to provide graphical capabilities, aliased as \"plt\".  \\\n",
    "Below, we create a simple line plot of the number of seats won by the leading party at each GE since 1992. Note how we build up our plot in stepwise fashion: we begin with a call to the plot() function, in which we specify our x and y axes, taking advantage of *positional* arguments (i.e. the *first* argument in the function is the x axis, the *second* is the y axis). We then call the xlabel(), ylabel(), and title() functions. This approach to plotting graphics is very similar to R's base graphics, which we briefly used yesterday. "
   ]
  },
  {
   "cell_type": "code",
   "execution_count": null,
   "id": "438071d4-bf02-4e35-be9c-0af2f3e906fe",
   "metadata": {},
   "outputs": [],
   "source": [
    "plt.plot(data_frame.year, data_frame.seats)\n",
    "plt.xlabel(\"Year\")\n",
    "plt.ylabel(\"Seats\")\n",
    "plt.title(\"No. of seat won by leading party, General Elections 1992-2020\")"
   ]
  },
  {
   "cell_type": "markdown",
   "id": "75b9788b-f127-4514-a016-6187337030a7",
   "metadata": {},
   "source": [
    "### Activity\n",
    "\n",
    "By recycling the code, try to create a dataframe and a line plot for the number of seats of the second largest party over the same period. You can find the figures at Wikipedia (https://en.wikipedia.org/wiki/D%C3%A1il_election_results)"
   ]
  },
  {
   "cell_type": "code",
   "execution_count": null,
   "id": "b4fb1ad9-bc3b-4993-b52e-a0617d16d676",
   "metadata": {},
   "outputs": [],
   "source": [
    "data = {'year': [1992, 1997, 2002, 2007, 2011, 2016, 2020],\n",
    "        'party': ['Fianna Fail', 'Fianna Fail', 'Fianna Fail', 'Fianna Fail', 'Fine Gael', 'Fine Gael', 'Fianna Fail'],\n",
    "        'seats': [68, 77, 81, 78, 76, 50, 38]}\n",
    "\n",
    "data_frame = pd.DataFrame(data)\n",
    "print(data_frame)\n",
    "\n",
    "data_frame.seats.mean()\n",
    "data_frame['seats'].mean()\n",
    "\n",
    "data_frame['seats'].groupby(data_frame['party']).mean()\n",
    "data_frame['seats'].groupby(data_frame['party']).std()\n",
    "\n",
    "plt.plot(data_frame.year, data_frame.seats)\n",
    "plt.xlabel(\"Year\")\n",
    "plt.ylabel(\"Seats\")\n",
    "plt.title(\"No. of seat won by leading party, General Elections 1992-2020\")"
   ]
  },
  {
   "cell_type": "code",
   "execution_count": null,
   "id": "68cb2ac9-f115-4dd7-bc40-5f49e663d758",
   "metadata": {},
   "outputs": [],
   "source": [
    "################\n",
    "# And finally...\n",
    "################\n",
    "\n",
    "# There is much more to Python as a language, but the learning curve\n",
    "# can be quite steep, and it is easy to become overwhelmed. For this\n",
    "# reason we will leave it here for today - Congratulations, you \n",
    "# survived Python basics!"
   ]
  },
  {
   "cell_type": "code",
   "execution_count": null,
   "id": "21cfeef9-f482-4a6c-9a0d-56eda8d615d1",
   "metadata": {},
   "outputs": [],
   "source": [
    "data = [1, 2, 3, 4, 5]\n",
    "squares = [n**2 for n in data]\n",
    "\n",
    "plt.plot(data, squares, marker=\"o\")\n",
    "plt.title(\"Numbers and their squares\")\n",
    "plt.xlabel(\"Number\")\n",
    "plt.ylabel(\"Square\")\n",
    "plt.show()"
   ]
  }
 ],
 "metadata": {
  "kernelspec": {
   "display_name": "Python (coding camp)",
   "language": "python",
   "name": "codingcamp"
  },
  "language_info": {
   "codemirror_mode": {
    "name": "ipython",
    "version": 3
   },
   "file_extension": ".py",
   "mimetype": "text/x-python",
   "name": "python",
   "nbconvert_exporter": "python",
   "pygments_lexer": "ipython3",
   "version": "3.12.11"
  }
 },
 "nbformat": 4,
 "nbformat_minor": 5
}
